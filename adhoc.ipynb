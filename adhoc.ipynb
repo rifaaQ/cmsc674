{
 "cells": [
  {
   "cell_type": "code",
   "execution_count": 1,
   "metadata": {},
   "outputs": [],
   "source": [
    "from utils import *\n",
    "\n",
    "# import numpy as np\n",
    "import pandas as pd\n",
    "# import matplotlib.pyplot as plt\n",
    "# import seaborn as sns\n",
    "\n",
    "# from sklearn.metrics.pairwise import cosine_similarity\n",
    "# from sklearn.decomposition import PCA"
   ]
  },
  {
   "cell_type": "code",
   "execution_count": 2,
   "metadata": {},
   "outputs": [],
   "source": [
    "# df = pd.read_pickle('./test_data/wiki_hard.pkl')\n",
    "# embeddings = np.load('./embeddings/contriever_chnk-100_ovlp-20_emb.npy')"
   ]
  },
  {
   "cell_type": "code",
   "execution_count": 7,
   "metadata": {},
   "outputs": [
    {
     "data": {
      "text/plain": [
       "['10 11 12 13 14 15.', '4 5 6 7 8 9 10', '8 9 10 11', '1 2 3 4 5 6']"
      ]
     },
     "execution_count": 7,
     "metadata": {},
     "output_type": "execute_result"
    }
   ],
   "source": [
    "get_random_query(\"1 2 3 4 5 6 7 8 9 10 11 12 13 14 15.\", 3, 7, 4)"
   ]
  },
  {
   "cell_type": "code",
   "execution_count": 2,
   "metadata": {},
   "outputs": [
    {
     "data": {
      "text/html": [
       "<div>\n",
       "<style scoped>\n",
       "    .dataframe tbody tr th:only-of-type {\n",
       "        vertical-align: middle;\n",
       "    }\n",
       "\n",
       "    .dataframe tbody tr th {\n",
       "        vertical-align: top;\n",
       "    }\n",
       "\n",
       "    .dataframe thead th {\n",
       "        text-align: right;\n",
       "    }\n",
       "</style>\n",
       "<table border=\"1\" class=\"dataframe\">\n",
       "  <thead>\n",
       "    <tr style=\"text-align: right;\">\n",
       "      <th></th>\n",
       "      <th>model</th>\n",
       "      <th>chunk_size</th>\n",
       "      <th>overlap</th>\n",
       "      <th>embedding_dim</th>\n",
       "      <th>accuracy</th>\n",
       "      <th>query_size</th>\n",
       "    </tr>\n",
       "  </thead>\n",
       "  <tbody>\n",
       "    <tr>\n",
       "      <th>2695</th>\n",
       "      <td>contriever</td>\n",
       "      <td>500</td>\n",
       "      <td>0.3</td>\n",
       "      <td>614</td>\n",
       "      <td>81.828571</td>\n",
       "      <td>(50, 100)</td>\n",
       "    </tr>\n",
       "    <tr>\n",
       "      <th>2696</th>\n",
       "      <td>contriever</td>\n",
       "      <td>500</td>\n",
       "      <td>0.3</td>\n",
       "      <td>652</td>\n",
       "      <td>81.828571</td>\n",
       "      <td>(50, 100)</td>\n",
       "    </tr>\n",
       "    <tr>\n",
       "      <th>2697</th>\n",
       "      <td>contriever</td>\n",
       "      <td>500</td>\n",
       "      <td>0.3</td>\n",
       "      <td>691</td>\n",
       "      <td>81.828571</td>\n",
       "      <td>(50, 100)</td>\n",
       "    </tr>\n",
       "    <tr>\n",
       "      <th>2698</th>\n",
       "      <td>contriever</td>\n",
       "      <td>500</td>\n",
       "      <td>0.3</td>\n",
       "      <td>729</td>\n",
       "      <td>82.000000</td>\n",
       "      <td>(50, 100)</td>\n",
       "    </tr>\n",
       "    <tr>\n",
       "      <th>2699</th>\n",
       "      <td>contriever</td>\n",
       "      <td>500</td>\n",
       "      <td>0.3</td>\n",
       "      <td>768</td>\n",
       "      <td>85.142857</td>\n",
       "      <td>(50, 100)</td>\n",
       "    </tr>\n",
       "  </tbody>\n",
       "</table>\n",
       "</div>"
      ],
      "text/plain": [
       "           model  chunk_size  overlap  embedding_dim   accuracy query_size\n",
       "2695  contriever         500      0.3            614  81.828571  (50, 100)\n",
       "2696  contriever         500      0.3            652  81.828571  (50, 100)\n",
       "2697  contriever         500      0.3            691  81.828571  (50, 100)\n",
       "2698  contriever         500      0.3            729  82.000000  (50, 100)\n",
       "2699  contriever         500      0.3            768  85.142857  (50, 100)"
      ]
     },
     "execution_count": 2,
     "metadata": {},
     "output_type": "execute_result"
    }
   ],
   "source": [
    "df = pd.read_pickle('./results.pkl')\n",
    "df.tail()"
   ]
  }
 ],
 "metadata": {
  "kernelspec": {
   "display_name": "Python 3",
   "language": "python",
   "name": "python3"
  },
  "language_info": {
   "codemirror_mode": {
    "name": "ipython",
    "version": 3
   },
   "file_extension": ".py",
   "mimetype": "text/x-python",
   "name": "python",
   "nbconvert_exporter": "python",
   "pygments_lexer": "ipython3",
   "version": "3.9.7"
  }
 },
 "nbformat": 4,
 "nbformat_minor": 2
}
