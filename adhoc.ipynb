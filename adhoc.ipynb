{
 "cells": [
  {
   "cell_type": "code",
   "execution_count": 1,
   "metadata": {},
   "outputs": [],
   "source": [
    "from utils import *\n",
    "\n",
    "# import numpy as np\n",
    "import pandas as pd\n",
    "# import matplotlib.pyplot as plt\n",
    "# import seaborn as sns\n",
    "\n",
    "# from sklearn.metrics.pairwise import cosine_similarity\n",
    "# from sklearn.decomposition import PCA"
   ]
  },
  {
   "cell_type": "code",
   "execution_count": 2,
   "metadata": {},
   "outputs": [],
   "source": [
    "# df = pd.read_pickle('./test_data/wiki_hard.pkl')\n",
    "# embeddings = np.load('./embeddings/contriever_chnk-100_ovlp-20_emb.npy')"
   ]
  },
  {
   "cell_type": "code",
   "execution_count": 3,
   "metadata": {},
   "outputs": [
    {
     "data": {
      "text/html": [
       "<div>\n",
       "<style scoped>\n",
       "    .dataframe tbody tr th:only-of-type {\n",
       "        vertical-align: middle;\n",
       "    }\n",
       "\n",
       "    .dataframe tbody tr th {\n",
       "        vertical-align: top;\n",
       "    }\n",
       "\n",
       "    .dataframe thead th {\n",
       "        text-align: right;\n",
       "    }\n",
       "</style>\n",
       "<table border=\"1\" class=\"dataframe\">\n",
       "  <thead>\n",
       "    <tr style=\"text-align: right;\">\n",
       "      <th></th>\n",
       "      <th>model</th>\n",
       "      <th>chunk_size</th>\n",
       "      <th>overlap</th>\n",
       "      <th>embedding_dim</th>\n",
       "      <th>accuracy</th>\n",
       "      <th>query_size</th>\n",
       "    </tr>\n",
       "  </thead>\n",
       "  <tbody>\n",
       "    <tr>\n",
       "      <th>10795</th>\n",
       "      <td>bert</td>\n",
       "      <td>500</td>\n",
       "      <td>0.3</td>\n",
       "      <td>614</td>\n",
       "      <td>61.028571</td>\n",
       "      <td>(25, 50)</td>\n",
       "    </tr>\n",
       "    <tr>\n",
       "      <th>10796</th>\n",
       "      <td>bert</td>\n",
       "      <td>500</td>\n",
       "      <td>0.3</td>\n",
       "      <td>652</td>\n",
       "      <td>61.200000</td>\n",
       "      <td>(25, 50)</td>\n",
       "    </tr>\n",
       "    <tr>\n",
       "      <th>10797</th>\n",
       "      <td>bert</td>\n",
       "      <td>500</td>\n",
       "      <td>0.3</td>\n",
       "      <td>691</td>\n",
       "      <td>61.142857</td>\n",
       "      <td>(25, 50)</td>\n",
       "    </tr>\n",
       "    <tr>\n",
       "      <th>10798</th>\n",
       "      <td>bert</td>\n",
       "      <td>500</td>\n",
       "      <td>0.3</td>\n",
       "      <td>729</td>\n",
       "      <td>61.085714</td>\n",
       "      <td>(25, 50)</td>\n",
       "    </tr>\n",
       "    <tr>\n",
       "      <th>10799</th>\n",
       "      <td>bert</td>\n",
       "      <td>500</td>\n",
       "      <td>0.3</td>\n",
       "      <td>768</td>\n",
       "      <td>59.942857</td>\n",
       "      <td>(25, 50)</td>\n",
       "    </tr>\n",
       "  </tbody>\n",
       "</table>\n",
       "</div>"
      ],
      "text/plain": [
       "      model  chunk_size  overlap  embedding_dim   accuracy query_size\n",
       "10795  bert         500      0.3            614  61.028571   (25, 50)\n",
       "10796  bert         500      0.3            652  61.200000   (25, 50)\n",
       "10797  bert         500      0.3            691  61.142857   (25, 50)\n",
       "10798  bert         500      0.3            729  61.085714   (25, 50)\n",
       "10799  bert         500      0.3            768  59.942857   (25, 50)"
      ]
     },
     "execution_count": 3,
     "metadata": {},
     "output_type": "execute_result"
    }
   ],
   "source": [
    "df1 = pd.read_pickle('./results.pkl')\n",
    "df2 = pd.read_pickle('./results3.pkl')\n",
    "result = pd.concat([df1, df2], ignore_index=True)\n",
    "result.to_pickle('./result.pkl')\n",
    "result.tail()"
   ]
  }
 ],
 "metadata": {
  "kernelspec": {
   "display_name": "Python 3",
   "language": "python",
   "name": "python3"
  },
  "language_info": {
   "codemirror_mode": {
    "name": "ipython",
    "version": 3
   },
   "file_extension": ".py",
   "mimetype": "text/x-python",
   "name": "python",
   "nbconvert_exporter": "python",
   "pygments_lexer": "ipython3",
   "version": "3.9.7"
  }
 },
 "nbformat": 4,
 "nbformat_minor": 2
}
