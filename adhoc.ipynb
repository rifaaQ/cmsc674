{
 "cells": [
  {
   "cell_type": "code",
   "execution_count": 1,
   "metadata": {},
   "outputs": [],
   "source": [
    "from utils import *\n",
    "\n",
    "# import numpy as np\n",
    "import pandas as pd\n",
    "# import matplotlib.pyplot as plt\n",
    "# import seaborn as sns\n",
    "\n",
    "# from sklearn.metrics.pairwise import cosine_similarity\n",
    "# from sklearn.decomposition import PCA"
   ]
  },
  {
   "cell_type": "code",
   "execution_count": 2,
   "metadata": {},
   "outputs": [],
   "source": [
    "# df = pd.read_pickle('./test_data/wiki_hard.pkl')\n",
    "# embeddings = np.load('./embeddings/contriever_chnk-100_ovlp-20_emb.npy')"
   ]
  },
  {
   "cell_type": "code",
   "execution_count": 3,
   "metadata": {},
   "outputs": [
    {
     "data": {
      "text/html": [
       "<div>\n",
       "<style scoped>\n",
       "    .dataframe tbody tr th:only-of-type {\n",
       "        vertical-align: middle;\n",
       "    }\n",
       "\n",
       "    .dataframe tbody tr th {\n",
       "        vertical-align: top;\n",
       "    }\n",
       "\n",
       "    .dataframe thead th {\n",
       "        text-align: right;\n",
       "    }\n",
       "</style>\n",
       "<table border=\"1\" class=\"dataframe\">\n",
       "  <thead>\n",
       "    <tr style=\"text-align: right;\">\n",
       "      <th></th>\n",
       "      <th>model</th>\n",
       "      <th>chunk_size</th>\n",
       "      <th>overlap</th>\n",
       "      <th>embedding_dim</th>\n",
       "      <th>accuracy</th>\n",
       "      <th>query_size</th>\n",
       "    </tr>\n",
       "  </thead>\n",
       "  <tbody>\n",
       "    <tr>\n",
       "      <th>16195</th>\n",
       "      <td>minilm</td>\n",
       "      <td>500</td>\n",
       "      <td>0.3</td>\n",
       "      <td>307</td>\n",
       "      <td>69.657143</td>\n",
       "      <td>(25, 50)</td>\n",
       "    </tr>\n",
       "    <tr>\n",
       "      <th>16196</th>\n",
       "      <td>minilm</td>\n",
       "      <td>500</td>\n",
       "      <td>0.3</td>\n",
       "      <td>326</td>\n",
       "      <td>69.542857</td>\n",
       "      <td>(25, 50)</td>\n",
       "    </tr>\n",
       "    <tr>\n",
       "      <th>16197</th>\n",
       "      <td>minilm</td>\n",
       "      <td>500</td>\n",
       "      <td>0.3</td>\n",
       "      <td>345</td>\n",
       "      <td>69.542857</td>\n",
       "      <td>(25, 50)</td>\n",
       "    </tr>\n",
       "    <tr>\n",
       "      <th>16198</th>\n",
       "      <td>minilm</td>\n",
       "      <td>500</td>\n",
       "      <td>0.3</td>\n",
       "      <td>364</td>\n",
       "      <td>69.542857</td>\n",
       "      <td>(25, 50)</td>\n",
       "    </tr>\n",
       "    <tr>\n",
       "      <th>16199</th>\n",
       "      <td>minilm</td>\n",
       "      <td>500</td>\n",
       "      <td>0.3</td>\n",
       "      <td>384</td>\n",
       "      <td>70.171429</td>\n",
       "      <td>(25, 50)</td>\n",
       "    </tr>\n",
       "  </tbody>\n",
       "</table>\n",
       "</div>"
      ],
      "text/plain": [
       "        model  chunk_size  overlap  embedding_dim   accuracy query_size\n",
       "16195  minilm         500      0.3            307  69.657143   (25, 50)\n",
       "16196  minilm         500      0.3            326  69.542857   (25, 50)\n",
       "16197  minilm         500      0.3            345  69.542857   (25, 50)\n",
       "16198  minilm         500      0.3            364  69.542857   (25, 50)\n",
       "16199  minilm         500      0.3            384  70.171429   (25, 50)"
      ]
     },
     "execution_count": 3,
     "metadata": {},
     "output_type": "execute_result"
    }
   ],
   "source": [
    "df1 = pd.read_pickle('./results.pkl')\n",
    "df2 = pd.read_pickle('./results2.pkl')\n",
    "result = pd.concat([df1, df2], ignore_index=True)\n",
    "result.to_pickle('./result.pkl')\n",
    "result.tail()"
   ]
  }
 ],
 "metadata": {
  "kernelspec": {
   "display_name": "Python 3",
   "language": "python",
   "name": "python3"
  },
  "language_info": {
   "codemirror_mode": {
    "name": "ipython",
    "version": 3
   },
   "file_extension": ".py",
   "mimetype": "text/x-python",
   "name": "python",
   "nbconvert_exporter": "python",
   "pygments_lexer": "ipython3",
   "version": "3.9.7"
  }
 },
 "nbformat": 4,
 "nbformat_minor": 2
}
