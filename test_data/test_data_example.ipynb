{
 "cells": [
  {
   "cell_type": "markdown",
   "metadata": {},
   "source": [
    "# Test Data Example\n",
    "\n",
    "Something something something... this notebook is for testing stuff using documents from Wikipedia."
   ]
  },
  {
   "cell_type": "markdown",
   "metadata": {},
   "source": [
    "## Prelims"
   ]
  },
  {
   "cell_type": "code",
   "execution_count": null,
   "metadata": {},
   "outputs": [],
   "source": [
    "# !pip install apache_beam mwparserfromhell\n",
    "# !pip install datasets"
   ]
  },
  {
   "cell_type": "code",
   "execution_count": 2,
   "metadata": {},
   "outputs": [],
   "source": [
    "import json\n",
    "import random\n",
    "import pandas as pd\n",
    "# from datasets import load_dataset"
   ]
  },
  {
   "cell_type": "markdown",
   "metadata": {},
   "source": [
    "## Something Something Data\n",
    "\n",
    "Data from Hugging Face."
   ]
  },
  {
   "cell_type": "code",
   "execution_count": null,
   "metadata": {},
   "outputs": [],
   "source": [
    "# wiki_data = load_dataset(\"wikipedia\", \"20220301.en\")\n",
    "# wiki_data = wiki_data['train']"
   ]
  },
  {
   "cell_type": "code",
   "execution_count": null,
   "metadata": {},
   "outputs": [],
   "source": [
    "# get a bunch of random examples\n",
    "# num_examples = 10000\n",
    "# example_indices = random.sample(range(0, len(wiki_data)), num_examples)\n",
    "\n",
    "# # convert to dataframe\n",
    "# wiki_example = pd.DataFrame.from_dict(wiki_data[example_indices])"
   ]
  },
  {
   "cell_type": "code",
   "execution_count": 2,
   "metadata": {},
   "outputs": [
    {
     "data": {
      "text/html": [
       "<div>\n",
       "<style scoped>\n",
       "    .dataframe tbody tr th:only-of-type {\n",
       "        vertical-align: middle;\n",
       "    }\n",
       "\n",
       "    .dataframe tbody tr th {\n",
       "        vertical-align: top;\n",
       "    }\n",
       "\n",
       "    .dataframe thead th {\n",
       "        text-align: right;\n",
       "    }\n",
       "</style>\n",
       "<table border=\"1\" class=\"dataframe\">\n",
       "  <thead>\n",
       "    <tr style=\"text-align: right;\">\n",
       "      <th></th>\n",
       "      <th>id</th>\n",
       "      <th>url</th>\n",
       "      <th>title</th>\n",
       "      <th>text</th>\n",
       "    </tr>\n",
       "  </thead>\n",
       "  <tbody>\n",
       "    <tr>\n",
       "      <th>0</th>\n",
       "      <td>32915086</td>\n",
       "      <td>https://en.wikipedia.org/wiki/Vows%20%28album%29</td>\n",
       "      <td>Vows (album)</td>\n",
       "      <td>Vows is the debut studio album by New Zealand ...</td>\n",
       "    </tr>\n",
       "    <tr>\n",
       "      <th>1</th>\n",
       "      <td>8599106</td>\n",
       "      <td>https://en.wikipedia.org/wiki/Dianella%20%28pl...</td>\n",
       "      <td>Dianella (plant)</td>\n",
       "      <td>Dianella is a genus of about forty species of ...</td>\n",
       "    </tr>\n",
       "    <tr>\n",
       "      <th>2</th>\n",
       "      <td>47566285</td>\n",
       "      <td>https://en.wikipedia.org/wiki/Selena%20Piek</td>\n",
       "      <td>Selena Piek</td>\n",
       "      <td>Selena Piek (born 30 September 1991) is a Dutc...</td>\n",
       "    </tr>\n",
       "    <tr>\n",
       "      <th>3</th>\n",
       "      <td>35671732</td>\n",
       "      <td>https://en.wikipedia.org/wiki/The%20Falmouth%2...</td>\n",
       "      <td>The Falmouth Hotel</td>\n",
       "      <td>The Falmouth Hotel is a hotel on the seafront ...</td>\n",
       "    </tr>\n",
       "    <tr>\n",
       "      <th>4</th>\n",
       "      <td>60295349</td>\n",
       "      <td>https://en.wikipedia.org/wiki/1995%E2%80%9396%...</td>\n",
       "      <td>1995–96 Rugby Union County Championship</td>\n",
       "      <td>The 1995–96 CIS Insurance Rugby Union County C...</td>\n",
       "    </tr>\n",
       "  </tbody>\n",
       "</table>\n",
       "</div>"
      ],
      "text/plain": [
       "         id                                                url  \\\n",
       "0  32915086   https://en.wikipedia.org/wiki/Vows%20%28album%29   \n",
       "1   8599106  https://en.wikipedia.org/wiki/Dianella%20%28pl...   \n",
       "2  47566285        https://en.wikipedia.org/wiki/Selena%20Piek   \n",
       "3  35671732  https://en.wikipedia.org/wiki/The%20Falmouth%2...   \n",
       "4  60295349  https://en.wikipedia.org/wiki/1995%E2%80%9396%...   \n",
       "\n",
       "                                     title  \\\n",
       "0                             Vows (album)   \n",
       "1                         Dianella (plant)   \n",
       "2                              Selena Piek   \n",
       "3                       The Falmouth Hotel   \n",
       "4  1995–96 Rugby Union County Championship   \n",
       "\n",
       "                                                text  \n",
       "0  Vows is the debut studio album by New Zealand ...  \n",
       "1  Dianella is a genus of about forty species of ...  \n",
       "2  Selena Piek (born 30 September 1991) is a Dutc...  \n",
       "3  The Falmouth Hotel is a hotel on the seafront ...  \n",
       "4  The 1995–96 CIS Insurance Rugby Union County C...  "
      ]
     },
     "execution_count": 2,
     "metadata": {},
     "output_type": "execute_result"
    }
   ],
   "source": [
    "# save the data\n",
    "# wiki_example.to_pickle(\"./wiki_test.pkl\") \n",
    "\n",
    "# load the data\n",
    "df = pd.read_pickle(\"./wiki_test.pkl\")\n",
    "df.head(5)"
   ]
  },
  {
   "cell_type": "code",
   "execution_count": 9,
   "metadata": {},
   "outputs": [],
   "source": [
    "def simple_tokenize(text):\n",
    "    \"\"\"\n",
    "    Simple tokenizer by white space.\n",
    "    \"\"\"\n",
    "    return text.split()\n",
    "\n",
    "def tok_split(toks, num_toks):\n",
    "    \"\"\"\n",
    "    Split a list of tokens so each list has tokens of same length (except possibly the last one).\n",
    "    \"\"\"\n",
    "    split = [toks[i:i+num_toks] for i in range(0, len(toks), num_toks)]\n",
    "    return split"
   ]
  },
  {
   "cell_type": "code",
   "execution_count": 13,
   "metadata": {},
   "outputs": [
    {
     "data": {
      "text/plain": [
       "10"
      ]
     },
     "execution_count": 13,
     "metadata": {},
     "output_type": "execute_result"
    }
   ],
   "source": [
    "txt1 = df.iloc[0]['text']\n",
    "tok1 = simple_tokenize(txt1)\n",
    "splits1 = tok_split(tok1, 100)\n",
    "len(splits1)"
   ]
  },
  {
   "cell_type": "markdown",
   "metadata": {},
   "source": [
    "Splits"
   ]
  },
  {
   "cell_type": "code",
   "execution_count": 24,
   "metadata": {},
   "outputs": [
    {
     "data": {
      "text/plain": [
       "52996"
      ]
     },
     "execution_count": 24,
     "metadata": {},
     "output_type": "execute_result"
    }
   ],
   "source": [
    "df_tmp = df.copy()\n",
    "df_tmp = df_tmp.drop(['url','title'], axis=1) # cols not needed for now\n",
    "\n",
    "num_toks = 100\n",
    "df_tmp['text'] = df_tmp['text'].map(lambda x: tok_split(simple_tokenize(x), num_toks)) # tokenize\n",
    "\n",
    "# separate lists\n",
    "df_tmp = df_tmp.explode('text', ignore_index=True)\n",
    "# df_tmp = df_tmp.reset_index()\n",
    "\n",
    "df_tmp = df_tmp.rename(columns={'text': 'text_chunk'})\n",
    "len(df_tmp)\n"
   ]
  },
  {
   "cell_type": "code",
   "execution_count": 26,
   "metadata": {},
   "outputs": [
    {
     "data": {
      "text/plain": [
       "10000"
      ]
     },
     "execution_count": 26,
     "metadata": {},
     "output_type": "execute_result"
    }
   ],
   "source": []
  },
  {
   "cell_type": "markdown",
   "metadata": {},
   "source": [
    "### Groups"
   ]
  },
  {
   "cell_type": "code",
   "execution_count": 3,
   "metadata": {},
   "outputs": [],
   "source": [
    "# load data\n",
    "file_path = 'test_data.json'\n",
    "\n",
    "with open(file_path, 'r') as file:\n",
    "    data = json.load(file)"
   ]
  },
  {
   "cell_type": "code",
   "execution_count": 4,
   "metadata": {},
   "outputs": [
    {
     "data": {
      "text/plain": [
       "['Chinese Dynasties', 'Rivers', 'Sorting Algorithms', 'Noodles']"
      ]
     },
     "execution_count": 4,
     "metadata": {},
     "output_type": "execute_result"
    }
   ],
   "source": [
    "# print groups\n",
    "[g['name'] for g in data]"
   ]
  },
  {
   "cell_type": "code",
   "execution_count": 4,
   "metadata": {},
   "outputs": [
    {
     "data": {
      "text/plain": [
       "10"
      ]
     },
     "execution_count": 4,
     "metadata": {},
     "output_type": "execute_result"
    }
   ],
   "source": [
    "# num documents\n",
    "len(data[0]['documents'])"
   ]
  },
  {
   "cell_type": "code",
   "execution_count": 10,
   "metadata": {},
   "outputs": [
    {
     "name": "stdout",
     "output_type": "stream",
     "text": [
      "[25310, 43449, 43455, 43456, 43460, 43461, 43464, 43465, 56978, 19606306]\n",
      "[1701, 6613, 10221, 12448, 19579, 21244, 31259, 49031, 50819, 69147]\n",
      "[13995, 15205, 20039, 25980, 29352, 97592, 99864, 3268249, 6508027, 25977485]\n",
      "[29178, 37969, 156520, 395707, 526059, 625565, 2676972, 2971869, 3180120, 20370974]\n"
     ]
    }
   ],
   "source": [
    "for i in range(4):\n",
    "    ids = []\n",
    "    for j in range(10):\n",
    "        ids.append(int(data[i]['documents'][j]['id']))\n",
    "    print(ids)\n",
    "    "
   ]
  },
  {
   "cell_type": "code",
   "execution_count": null,
   "metadata": {},
   "outputs": [],
   "source": []
  }
 ],
 "metadata": {
  "kernelspec": {
   "display_name": "Python 3",
   "language": "python",
   "name": "python3"
  },
  "language_info": {
   "codemirror_mode": {
    "name": "ipython",
    "version": 3
   },
   "file_extension": ".py",
   "mimetype": "text/x-python",
   "name": "python",
   "nbconvert_exporter": "python",
   "pygments_lexer": "ipython3",
   "version": "3.9.7"
  }
 },
 "nbformat": 4,
 "nbformat_minor": 2
}
