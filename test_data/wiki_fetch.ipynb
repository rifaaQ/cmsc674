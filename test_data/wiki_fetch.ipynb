{
  "cells": [
    {
      "cell_type": "markdown",
      "source": [
        "# Dataset Creation\n",
        "\n",
        "This notebook contains code for generating a hard dataset from wikipedia so we can test our embedding methods."
      ],
      "metadata": {
        "id": "qL1NviuNMw3t"
      }
    },
    {
      "cell_type": "markdown",
      "metadata": {
        "id": "LmxYLLrTE8gp"
      },
      "source": [
        "## Pre-reqs"
      ]
    },
    {
      "cell_type": "code",
      "execution_count": null,
      "metadata": {
        "id": "oJhxAS-sA4aq"
      },
      "outputs": [],
      "source": [
        "!pip install apache_beam mwparserfromhell\n",
        "!pip install datasets"
      ]
    },
    {
      "cell_type": "markdown",
      "metadata": {
        "id": "ozuYeyaSFJhX"
      },
      "source": [
        "Imports"
      ]
    },
    {
      "cell_type": "code",
      "execution_count": 2,
      "metadata": {
        "id": "8JOqAXZuA42X"
      },
      "outputs": [],
      "source": [
        "import json\n",
        "import random\n",
        "import pandas as pd\n",
        "from datasets import load_dataset"
      ]
    },
    {
      "cell_type": "markdown",
      "metadata": {
        "id": "u5lkQL3MFPKM"
      },
      "source": [
        "## The Data\n",
        "\n",
        "Full dataset is around 20G."
      ]
    },
    {
      "cell_type": "code",
      "execution_count": 3,
      "metadata": {
        "id": "-1QadfzGf2TU"
      },
      "outputs": [],
      "source": [
        "# load dataset\n",
        "wiki_data = load_dataset(\"wikipedia\", \"20220301.en\")\n",
        "wiki_data = wiki_data['train']"
      ]
    },
    {
      "cell_type": "code",
      "execution_count": 4,
      "metadata": {
        "id": "zDu4MS5lidK0",
        "colab": {
          "base_uri": "https://localhost:8080/"
        },
        "outputId": "ebe0847f-71dd-4830-8384-752e5cf9ffb5"
      },
      "outputs": [
        {
          "output_type": "execute_result",
          "data": {
            "text/plain": [
              "6458670"
            ]
          },
          "metadata": {},
          "execution_count": 4
        }
      ],
      "source": [
        "size = len(wiki_data)\n",
        "size"
      ]
    },
    {
      "cell_type": "markdown",
      "source": [
        "### Similar Documents\n",
        "\n",
        "Get similar documents by title e.g., for Chinese dynasties: Han, Ming, Qin, etc."
      ],
      "metadata": {
        "id": "br4vsqN2Sp28"
      }
    },
    {
      "cell_type": "code",
      "source": [
        "# title of documents\n",
        "titles = \"Battle_of_Fort_Sumter, First_Battle_of_Bull_Run, Battle_of_Shiloh, Battle_of_Antietam, Battle_of_Chancellorsville, Siege_of_Vicksburg, Battle_of_Gettysburg, Battle_of_Chickamauga, Battle_of_Atlanta, Battle_of_Appomattox_Court_House\"\n",
        "titles = titles.replace('_', ' ')\n",
        "titles = titles.lower()\n",
        "\n",
        "title_list = titles.split(', ')\n",
        "title_list"
      ],
      "metadata": {
        "colab": {
          "base_uri": "https://localhost:8080/"
        },
        "id": "UsremkoPS_th",
        "outputId": "0b01ae6c-bd63-4c1d-ed3d-8d62b4bcc7d5"
      },
      "execution_count": 5,
      "outputs": [
        {
          "output_type": "execute_result",
          "data": {
            "text/plain": [
              "['battle of fort sumter',\n",
              " 'first battle of bull run',\n",
              " 'battle of shiloh',\n",
              " 'battle of antietam',\n",
              " 'battle of chancellorsville',\n",
              " 'siege of vicksburg',\n",
              " 'battle of gettysburg',\n",
              " 'battle of chickamauga',\n",
              " 'battle of atlanta',\n",
              " 'battle of appomattox court house']"
            ]
          },
          "metadata": {},
          "execution_count": 5
        }
      ]
    },
    {
      "cell_type": "markdown",
      "source": [
        "Get the corresponding wiki articles. It's slow but we only have to do it once."
      ],
      "metadata": {
        "id": "nCME6bp7T976"
      }
    },
    {
      "cell_type": "code",
      "source": [
        "filtered_wiki = wiki_data.filter(lambda x: x['title'].lower() in title_list)"
      ],
      "metadata": {
        "id": "-OHPsiB6VSeA"
      },
      "execution_count": 6,
      "outputs": []
    },
    {
      "cell_type": "code",
      "source": [
        "# convert to dataframe\n",
        "df = pd.DataFrame.from_dict(filtered_wiki)"
      ],
      "metadata": {
        "id": "5V84wf0hagiE"
      },
      "execution_count": 7,
      "outputs": []
    },
    {
      "cell_type": "code",
      "source": [
        "# ---------------------\n",
        "# run this sanity check\n",
        "# ---------------------\n",
        "assert (len(df) == len(title_list)), f\"Number of documents retrieved mismatched: should be {len(title_list)} got {len(df)} instead.\"\n",
        "df"
      ],
      "metadata": {
        "colab": {
          "base_uri": "https://localhost:8080/",
          "height": 363
        },
        "id": "JwywJ35qblbQ",
        "outputId": "43b9fa95-1a2a-42c6-85ec-f5216d2944ad"
      },
      "execution_count": 8,
      "outputs": [
        {
          "output_type": "execute_result",
          "data": {
            "text/plain": [
              "        id                                                url  \\\n",
              "0     4849  https://en.wikipedia.org/wiki/Battle%20of%20Ge...   \n",
              "1    48780  https://en.wikipedia.org/wiki/Battle%20of%20Ch...   \n",
              "2    84849  https://en.wikipedia.org/wiki/Battle%20of%20An...   \n",
              "3   144155  https://en.wikipedia.org/wiki/Battle%20of%20Sh...   \n",
              "4   176263  https://en.wikipedia.org/wiki/Battle%20of%20At...   \n",
              "5   204642  https://en.wikipedia.org/wiki/Battle%20of%20Ch...   \n",
              "6   228867  https://en.wikipedia.org/wiki/First%20Battle%2...   \n",
              "7   229668  https://en.wikipedia.org/wiki/Siege%20of%20Vic...   \n",
              "8   339819  https://en.wikipedia.org/wiki/Battle%20of%20Fo...   \n",
              "9  1478485  https://en.wikipedia.org/wiki/Battle%20of%20Ap...   \n",
              "\n",
              "                              title  \\\n",
              "0              Battle of Gettysburg   \n",
              "1        Battle of Chancellorsville   \n",
              "2                Battle of Antietam   \n",
              "3                  Battle of Shiloh   \n",
              "4                 Battle of Atlanta   \n",
              "5             Battle of Chickamauga   \n",
              "6          First Battle of Bull Run   \n",
              "7                Siege of Vicksburg   \n",
              "8             Battle of Fort Sumter   \n",
              "9  Battle of Appomattox Court House   \n",
              "\n",
              "                                                text  \n",
              "0  The Battle of Gettysburg () was fought July 1–...  \n",
              "1  The Battle of Chancellorsville was a major bat...  \n",
              "2  The Battle of Antietam (), or Battle of Sharps...  \n",
              "3  The Battle of Shiloh (also known as the Battle...  \n",
              "4  The Battle of Atlanta was a battle of the Atla...  \n",
              "5  The Battle of Chickamauga, fought on September...  \n",
              "6  The First Battle of Bull Run (the name used by...  \n",
              "7  The siege of Vicksburg (May 18 – July 4, 1863)...  \n",
              "8  The Battle of Fort Sumter (April 12–13, 1861) ...  \n",
              "9  The Battle of Appomattox Court House, fought i...  "
            ],
            "text/html": [
              "\n",
              "  <div id=\"df-5707596c-ef8c-42fc-9bcb-a61e74794993\" class=\"colab-df-container\">\n",
              "    <div>\n",
              "<style scoped>\n",
              "    .dataframe tbody tr th:only-of-type {\n",
              "        vertical-align: middle;\n",
              "    }\n",
              "\n",
              "    .dataframe tbody tr th {\n",
              "        vertical-align: top;\n",
              "    }\n",
              "\n",
              "    .dataframe thead th {\n",
              "        text-align: right;\n",
              "    }\n",
              "</style>\n",
              "<table border=\"1\" class=\"dataframe\">\n",
              "  <thead>\n",
              "    <tr style=\"text-align: right;\">\n",
              "      <th></th>\n",
              "      <th>id</th>\n",
              "      <th>url</th>\n",
              "      <th>title</th>\n",
              "      <th>text</th>\n",
              "    </tr>\n",
              "  </thead>\n",
              "  <tbody>\n",
              "    <tr>\n",
              "      <th>0</th>\n",
              "      <td>4849</td>\n",
              "      <td>https://en.wikipedia.org/wiki/Battle%20of%20Ge...</td>\n",
              "      <td>Battle of Gettysburg</td>\n",
              "      <td>The Battle of Gettysburg () was fought July 1–...</td>\n",
              "    </tr>\n",
              "    <tr>\n",
              "      <th>1</th>\n",
              "      <td>48780</td>\n",
              "      <td>https://en.wikipedia.org/wiki/Battle%20of%20Ch...</td>\n",
              "      <td>Battle of Chancellorsville</td>\n",
              "      <td>The Battle of Chancellorsville was a major bat...</td>\n",
              "    </tr>\n",
              "    <tr>\n",
              "      <th>2</th>\n",
              "      <td>84849</td>\n",
              "      <td>https://en.wikipedia.org/wiki/Battle%20of%20An...</td>\n",
              "      <td>Battle of Antietam</td>\n",
              "      <td>The Battle of Antietam (), or Battle of Sharps...</td>\n",
              "    </tr>\n",
              "    <tr>\n",
              "      <th>3</th>\n",
              "      <td>144155</td>\n",
              "      <td>https://en.wikipedia.org/wiki/Battle%20of%20Sh...</td>\n",
              "      <td>Battle of Shiloh</td>\n",
              "      <td>The Battle of Shiloh (also known as the Battle...</td>\n",
              "    </tr>\n",
              "    <tr>\n",
              "      <th>4</th>\n",
              "      <td>176263</td>\n",
              "      <td>https://en.wikipedia.org/wiki/Battle%20of%20At...</td>\n",
              "      <td>Battle of Atlanta</td>\n",
              "      <td>The Battle of Atlanta was a battle of the Atla...</td>\n",
              "    </tr>\n",
              "    <tr>\n",
              "      <th>5</th>\n",
              "      <td>204642</td>\n",
              "      <td>https://en.wikipedia.org/wiki/Battle%20of%20Ch...</td>\n",
              "      <td>Battle of Chickamauga</td>\n",
              "      <td>The Battle of Chickamauga, fought on September...</td>\n",
              "    </tr>\n",
              "    <tr>\n",
              "      <th>6</th>\n",
              "      <td>228867</td>\n",
              "      <td>https://en.wikipedia.org/wiki/First%20Battle%2...</td>\n",
              "      <td>First Battle of Bull Run</td>\n",
              "      <td>The First Battle of Bull Run (the name used by...</td>\n",
              "    </tr>\n",
              "    <tr>\n",
              "      <th>7</th>\n",
              "      <td>229668</td>\n",
              "      <td>https://en.wikipedia.org/wiki/Siege%20of%20Vic...</td>\n",
              "      <td>Siege of Vicksburg</td>\n",
              "      <td>The siege of Vicksburg (May 18 – July 4, 1863)...</td>\n",
              "    </tr>\n",
              "    <tr>\n",
              "      <th>8</th>\n",
              "      <td>339819</td>\n",
              "      <td>https://en.wikipedia.org/wiki/Battle%20of%20Fo...</td>\n",
              "      <td>Battle of Fort Sumter</td>\n",
              "      <td>The Battle of Fort Sumter (April 12–13, 1861) ...</td>\n",
              "    </tr>\n",
              "    <tr>\n",
              "      <th>9</th>\n",
              "      <td>1478485</td>\n",
              "      <td>https://en.wikipedia.org/wiki/Battle%20of%20Ap...</td>\n",
              "      <td>Battle of Appomattox Court House</td>\n",
              "      <td>The Battle of Appomattox Court House, fought i...</td>\n",
              "    </tr>\n",
              "  </tbody>\n",
              "</table>\n",
              "</div>\n",
              "    <div class=\"colab-df-buttons\">\n",
              "\n",
              "  <div class=\"colab-df-container\">\n",
              "    <button class=\"colab-df-convert\" onclick=\"convertToInteractive('df-5707596c-ef8c-42fc-9bcb-a61e74794993')\"\n",
              "            title=\"Convert this dataframe to an interactive table.\"\n",
              "            style=\"display:none;\">\n",
              "\n",
              "  <svg xmlns=\"http://www.w3.org/2000/svg\" height=\"24px\" viewBox=\"0 -960 960 960\">\n",
              "    <path d=\"M120-120v-720h720v720H120Zm60-500h600v-160H180v160Zm220 220h160v-160H400v160Zm0 220h160v-160H400v160ZM180-400h160v-160H180v160Zm440 0h160v-160H620v160ZM180-180h160v-160H180v160Zm440 0h160v-160H620v160Z\"/>\n",
              "  </svg>\n",
              "    </button>\n",
              "\n",
              "  <style>\n",
              "    .colab-df-container {\n",
              "      display:flex;\n",
              "      gap: 12px;\n",
              "    }\n",
              "\n",
              "    .colab-df-convert {\n",
              "      background-color: #E8F0FE;\n",
              "      border: none;\n",
              "      border-radius: 50%;\n",
              "      cursor: pointer;\n",
              "      display: none;\n",
              "      fill: #1967D2;\n",
              "      height: 32px;\n",
              "      padding: 0 0 0 0;\n",
              "      width: 32px;\n",
              "    }\n",
              "\n",
              "    .colab-df-convert:hover {\n",
              "      background-color: #E2EBFA;\n",
              "      box-shadow: 0px 1px 2px rgba(60, 64, 67, 0.3), 0px 1px 3px 1px rgba(60, 64, 67, 0.15);\n",
              "      fill: #174EA6;\n",
              "    }\n",
              "\n",
              "    .colab-df-buttons div {\n",
              "      margin-bottom: 4px;\n",
              "    }\n",
              "\n",
              "    [theme=dark] .colab-df-convert {\n",
              "      background-color: #3B4455;\n",
              "      fill: #D2E3FC;\n",
              "    }\n",
              "\n",
              "    [theme=dark] .colab-df-convert:hover {\n",
              "      background-color: #434B5C;\n",
              "      box-shadow: 0px 1px 3px 1px rgba(0, 0, 0, 0.15);\n",
              "      filter: drop-shadow(0px 1px 2px rgba(0, 0, 0, 0.3));\n",
              "      fill: #FFFFFF;\n",
              "    }\n",
              "  </style>\n",
              "\n",
              "    <script>\n",
              "      const buttonEl =\n",
              "        document.querySelector('#df-5707596c-ef8c-42fc-9bcb-a61e74794993 button.colab-df-convert');\n",
              "      buttonEl.style.display =\n",
              "        google.colab.kernel.accessAllowed ? 'block' : 'none';\n",
              "\n",
              "      async function convertToInteractive(key) {\n",
              "        const element = document.querySelector('#df-5707596c-ef8c-42fc-9bcb-a61e74794993');\n",
              "        const dataTable =\n",
              "          await google.colab.kernel.invokeFunction('convertToInteractive',\n",
              "                                                    [key], {});\n",
              "        if (!dataTable) return;\n",
              "\n",
              "        const docLinkHtml = 'Like what you see? Visit the ' +\n",
              "          '<a target=\"_blank\" href=https://colab.research.google.com/notebooks/data_table.ipynb>data table notebook</a>'\n",
              "          + ' to learn more about interactive tables.';\n",
              "        element.innerHTML = '';\n",
              "        dataTable['output_type'] = 'display_data';\n",
              "        await google.colab.output.renderOutput(dataTable, element);\n",
              "        const docLink = document.createElement('div');\n",
              "        docLink.innerHTML = docLinkHtml;\n",
              "        element.appendChild(docLink);\n",
              "      }\n",
              "    </script>\n",
              "  </div>\n",
              "\n",
              "\n",
              "<div id=\"df-3642a739-8f4e-4076-9e54-ec3c912a9421\">\n",
              "  <button class=\"colab-df-quickchart\" onclick=\"quickchart('df-3642a739-8f4e-4076-9e54-ec3c912a9421')\"\n",
              "            title=\"Suggest charts\"\n",
              "            style=\"display:none;\">\n",
              "\n",
              "<svg xmlns=\"http://www.w3.org/2000/svg\" height=\"24px\"viewBox=\"0 0 24 24\"\n",
              "     width=\"24px\">\n",
              "    <g>\n",
              "        <path d=\"M19 3H5c-1.1 0-2 .9-2 2v14c0 1.1.9 2 2 2h14c1.1 0 2-.9 2-2V5c0-1.1-.9-2-2-2zM9 17H7v-7h2v7zm4 0h-2V7h2v10zm4 0h-2v-4h2v4z\"/>\n",
              "    </g>\n",
              "</svg>\n",
              "  </button>\n",
              "\n",
              "<style>\n",
              "  .colab-df-quickchart {\n",
              "      --bg-color: #E8F0FE;\n",
              "      --fill-color: #1967D2;\n",
              "      --hover-bg-color: #E2EBFA;\n",
              "      --hover-fill-color: #174EA6;\n",
              "      --disabled-fill-color: #AAA;\n",
              "      --disabled-bg-color: #DDD;\n",
              "  }\n",
              "\n",
              "  [theme=dark] .colab-df-quickchart {\n",
              "      --bg-color: #3B4455;\n",
              "      --fill-color: #D2E3FC;\n",
              "      --hover-bg-color: #434B5C;\n",
              "      --hover-fill-color: #FFFFFF;\n",
              "      --disabled-bg-color: #3B4455;\n",
              "      --disabled-fill-color: #666;\n",
              "  }\n",
              "\n",
              "  .colab-df-quickchart {\n",
              "    background-color: var(--bg-color);\n",
              "    border: none;\n",
              "    border-radius: 50%;\n",
              "    cursor: pointer;\n",
              "    display: none;\n",
              "    fill: var(--fill-color);\n",
              "    height: 32px;\n",
              "    padding: 0;\n",
              "    width: 32px;\n",
              "  }\n",
              "\n",
              "  .colab-df-quickchart:hover {\n",
              "    background-color: var(--hover-bg-color);\n",
              "    box-shadow: 0 1px 2px rgba(60, 64, 67, 0.3), 0 1px 3px 1px rgba(60, 64, 67, 0.15);\n",
              "    fill: var(--button-hover-fill-color);\n",
              "  }\n",
              "\n",
              "  .colab-df-quickchart-complete:disabled,\n",
              "  .colab-df-quickchart-complete:disabled:hover {\n",
              "    background-color: var(--disabled-bg-color);\n",
              "    fill: var(--disabled-fill-color);\n",
              "    box-shadow: none;\n",
              "  }\n",
              "\n",
              "  .colab-df-spinner {\n",
              "    border: 2px solid var(--fill-color);\n",
              "    border-color: transparent;\n",
              "    border-bottom-color: var(--fill-color);\n",
              "    animation:\n",
              "      spin 1s steps(1) infinite;\n",
              "  }\n",
              "\n",
              "  @keyframes spin {\n",
              "    0% {\n",
              "      border-color: transparent;\n",
              "      border-bottom-color: var(--fill-color);\n",
              "      border-left-color: var(--fill-color);\n",
              "    }\n",
              "    20% {\n",
              "      border-color: transparent;\n",
              "      border-left-color: var(--fill-color);\n",
              "      border-top-color: var(--fill-color);\n",
              "    }\n",
              "    30% {\n",
              "      border-color: transparent;\n",
              "      border-left-color: var(--fill-color);\n",
              "      border-top-color: var(--fill-color);\n",
              "      border-right-color: var(--fill-color);\n",
              "    }\n",
              "    40% {\n",
              "      border-color: transparent;\n",
              "      border-right-color: var(--fill-color);\n",
              "      border-top-color: var(--fill-color);\n",
              "    }\n",
              "    60% {\n",
              "      border-color: transparent;\n",
              "      border-right-color: var(--fill-color);\n",
              "    }\n",
              "    80% {\n",
              "      border-color: transparent;\n",
              "      border-right-color: var(--fill-color);\n",
              "      border-bottom-color: var(--fill-color);\n",
              "    }\n",
              "    90% {\n",
              "      border-color: transparent;\n",
              "      border-bottom-color: var(--fill-color);\n",
              "    }\n",
              "  }\n",
              "</style>\n",
              "\n",
              "  <script>\n",
              "    async function quickchart(key) {\n",
              "      const quickchartButtonEl =\n",
              "        document.querySelector('#' + key + ' button');\n",
              "      quickchartButtonEl.disabled = true;  // To prevent multiple clicks.\n",
              "      quickchartButtonEl.classList.add('colab-df-spinner');\n",
              "      try {\n",
              "        const charts = await google.colab.kernel.invokeFunction(\n",
              "            'suggestCharts', [key], {});\n",
              "      } catch (error) {\n",
              "        console.error('Error during call to suggestCharts:', error);\n",
              "      }\n",
              "      quickchartButtonEl.classList.remove('colab-df-spinner');\n",
              "      quickchartButtonEl.classList.add('colab-df-quickchart-complete');\n",
              "    }\n",
              "    (() => {\n",
              "      let quickchartButtonEl =\n",
              "        document.querySelector('#df-3642a739-8f4e-4076-9e54-ec3c912a9421 button');\n",
              "      quickchartButtonEl.style.display =\n",
              "        google.colab.kernel.accessAllowed ? 'block' : 'none';\n",
              "    })();\n",
              "  </script>\n",
              "</div>\n",
              "    </div>\n",
              "  </div>\n"
            ]
          },
          "metadata": {},
          "execution_count": 8
        }
      ]
    },
    {
      "cell_type": "markdown",
      "source": [
        "Saving data"
      ],
      "metadata": {
        "id": "rU4UEDU4r43U"
      }
    },
    {
      "cell_type": "code",
      "source": [
        "# load old data\n",
        "df_old = pd.read_pickle(\"./wiki_hard.pkl\")\n",
        "\n",
        "# combine data frame\n",
        "df_new = pd.concat([df_old, df], ignore_index=True)\n",
        "\n",
        "# save the data\n",
        "df_new.to_pickle(\"./wiki_hard.pkl\")"
      ],
      "metadata": {
        "id": "qC2UkguXHLtd"
      },
      "execution_count": 9,
      "outputs": []
    }
  ],
  "metadata": {
    "colab": {
      "provenance": []
    },
    "kernelspec": {
      "display_name": "Python 3",
      "name": "python3"
    },
    "language_info": {
      "name": "python"
    }
  },
  "nbformat": 4,
  "nbformat_minor": 0
}